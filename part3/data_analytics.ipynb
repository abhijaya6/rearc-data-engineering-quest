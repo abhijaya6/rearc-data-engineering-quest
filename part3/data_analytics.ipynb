{
 "cells": [
  {
   "cell_type": "markdown",
   "metadata": {
    "pycharm": {
     "name": "#%% md\n"
    }
   },
   "source": [
    "# Part 3: Data Analytics"
   ]
  },
  {
   "cell_type": "markdown",
   "metadata": {
    "pycharm": {
     "name": "#%% md\n"
    }
   },
   "source": [
    "## Step 0\n",
    "\n",
    "> 0. Load both the csv file from **Part 1** `pr.data.0.current` and the json file from **Part 2** as dataframes ([Spark](https://spark.apache.org/docs/1.6.1/api/java/org/apache/spark/sql/DataFrame.html), [Pyspark](https://spark.apache.org/docs/latest/api/python/reference/api/pyspark.sql.DataFrame.html), [Pandas](https://pandas.pydata.org/pandas-docs/stable/reference/api/pandas.DataFrame.html), [Koalas](https://koalas.readthedocs.io/en/latest/), etc)."
   ]
  },
  {
   "cell_type": "code",
   "execution_count": 45,
   "metadata": {
    "pycharm": {
     "name": "#%%\n"
    }
   },
   "outputs": [
    {
     "name": "stdout",
     "output_type": "stream",
     "text": [
      "Downloading series data...\n",
      "Series DataFrame shape: (75659, 5)\n",
      "Series columns: Index(['series_id', 'year', 'period', 'value', 'footnote_codes'], dtype='object')\n",
      "           series_id  year period  value footnote_codes\n",
      "0  PRS30006011        1988    Q01    1.9            NaN\n",
      "1  PRS30006011        1988    Q02    2.2            NaN\n",
      "2  PRS30006011        1988    Q03    1.9            NaN\n",
      "3  PRS30006011        1988    Q04    1.1            NaN\n",
      "4  PRS30006011        1988    Q05    1.8            NaN\n",
      "\n",
      "Downloading population data JSON...\n",
      "Status code: 200\n",
      "Population DataFrame shape: (6, 2)\n",
      "   year  population\n",
      "0  2013   316128839\n",
      "1  2014   318857056\n",
      "2  2015   321418820\n",
      "3  2016   323127513\n",
      "4  2017   325719178\n",
      "\n",
      "Filtered series shape: (0, 5)\n",
      "Empty DataFrame\n",
      "Columns: [series_id, year, period, value, footnote_codes]\n",
      "Index: []\n",
      "\n",
      "Filtered population shape: (6, 2)\n",
      "   year  population\n",
      "0  2013   316128839\n",
      "1  2014   318857056\n",
      "2  2015   321418820\n",
      "3  2016   323127513\n",
      "4  2017   325719178\n",
      "\n",
      "Merged result shape: (0, 5)\n",
      "Empty DataFrame\n",
      "Columns: [series_id, year, period, value, population]\n",
      "Index: []\n"
     ]
    }
   ],
   "source": [
    "import pandas as pd\n",
    "import requests\n",
    "\n",
    "# Data sources (use your signed URLs or correct paths)\n",
    "SERIES_DATA = \"https://rearc-quest-bucket-abhijaya-2025.s3.eu-north-1.amazonaws.com/pr.data.1.AllData\"\n",
    "POPULATION_DATA = \"https://rearc-quest-bucket-abhijaya-2025.s3.eu-north-1.amazonaws.com/population.json\"\n",
    "\n",
    "# -----------------------------\n",
    "# Download and load series data\n",
    "print(\"Downloading series data...\")\n",
    "series = pd.read_csv(SERIES_DATA, delimiter=\"\\t\")\n",
    "\n",
    "# Fix: strip whitespace from column names so 'series_id' is correct\n",
    "series.columns = series.columns.str.strip()\n",
    "\n",
    "print(f\"Series DataFrame shape: {series.shape}\")\n",
    "print(\"Series columns:\", series.columns)\n",
    "print(series.head())\n",
    "\n",
    "# -----------------------------\n",
    "# Download and load population data\n",
    "print(\"\\nDownloading population data JSON...\")\n",
    "r = requests.get(POPULATION_DATA)\n",
    "print(\"Status code:\", r.status_code)\n",
    "if r.status_code != 200:\n",
    "    print(\"Error fetching population.json, response preview:\")\n",
    "    print(r.text[:500])\n",
    "    r.raise_for_status()\n",
    "\n",
    "population = pd.json_normalize(r.json(), record_path=\"data\")\n",
    "print(f\"Population DataFrame shape: {population.shape}\")\n",
    "print(population.head())\n",
    "\n",
    "# -----------------------------\n",
    "# Filter specific series: series IDs containing \"PRS30000632\" and period \"Q01\"\n",
    "specific_series = series.loc[\n",
    "    series[\"series_id\"].str.contains(\"PRS30000632\", case=False)\n",
    "]\n",
    "specific_series = specific_series[specific_series[\"period\"].str.contains(\"Q01\", case=False)]\n",
    "\n",
    "print(\"\\nFiltered series shape:\", specific_series.shape)\n",
    "print(specific_series.head())\n",
    "\n",
    "# -----------------------------\n",
    "# Filter population data for relevant years 2013-2018\n",
    "population[\"year\"] = population[\"year\"].astype(int)\n",
    "population_filtered = population[(population[\"year\"] >= 2013) & (population[\"year\"] <= 2018)]\n",
    "\n",
    "print(\"\\nFiltered population shape:\", population_filtered.shape)\n",
    "print(population_filtered.head())\n",
    "\n",
    "# -----------------------------\n",
    "# Merge filtered series with population on 'year'\n",
    "result = pd.merge(\n",
    "    specific_series,\n",
    "    population_filtered,\n",
    "    left_on=\"year\",\n",
    "    right_on=\"year\",\n",
    "    how=\"left\"\n",
    ")\n",
    "\n",
    "# Select and order columns for report\n",
    "result = result[[\"series_id\", \"year\", \"period\", \"value\", \"population\"]]\n",
    "\n",
    "# -----------------------------\n",
    "# Display final merged DataFrame\n",
    "print(\"\\nMerged result shape:\", result.shape)\n",
    "print(result.head(10))\n"
   ]
  },
  {
   "cell_type": "markdown",
   "metadata": {
    "pycharm": {
     "name": "#%% md\n"
    }
   },
   "source": [
    "## Step 1\n",
    "\n",
    "> 1. Using the dataframe from the population data API (Part 2), generate the mean and the standard deviation of the US population across the years [2013, 2018] inclusive."
   ]
  },
  {
   "cell_type": "code",
   "execution_count": 46,
   "metadata": {
    "pycharm": {
     "name": "#%%\n"
    }
   },
   "outputs": [
    {
     "name": "stdout",
     "output_type": "stream",
     "text": [
      "Mean US population 2013-2018: 322,069,808\n",
      "Stddev US population 2013-2018: 4,158,441\n"
     ]
    }
   ],
   "source": [
    "# Filter years 2013–2018\n",
    "population_stats = population[(population[\"year\"] >= 2013) & (population[\"year\"] <= 2018)]\n",
    "\n",
    "# Calculate mean and standard deviation\n",
    "mean_pop = population_stats[\"population\"].mean()\n",
    "std_pop = population_stats[\"population\"].std()\n",
    "\n",
    "print(f\"Mean US population 2013-2018: {mean_pop:,.0f}\")\n",
    "print(f\"Stddev US population 2013-2018: {std_pop:,.0f}\")\n"
   ]
  },
  {
   "cell_type": "markdown",
   "metadata": {
    "pycharm": {
     "name": "#%% md\n"
    }
   },
   "source": [
    "## Step 2\n",
    "\n",
    "> Using the dataframe from the time-series (Part 1), For every series_id, find the best year: the year with the max/largest sum of \"value\" for all quarters in that year. Generate a report with each series id, the best year for that series, and the summed value for that year."
   ]
  },
  {
   "cell_type": "code",
   "execution_count": 47,
   "metadata": {
    "pycharm": {
     "name": "#%%\n"
    }
   },
   "outputs": [
    {
     "data": {
      "text/html": [
       "<div>\n",
       "<style scoped>\n",
       "    .dataframe tbody tr th:only-of-type {\n",
       "        vertical-align: middle;\n",
       "    }\n",
       "\n",
       "    .dataframe tbody tr th {\n",
       "        vertical-align: top;\n",
       "    }\n",
       "\n",
       "    .dataframe thead th {\n",
       "        text-align: right;\n",
       "    }\n",
       "</style>\n",
       "<table border=\"1\" class=\"dataframe\">\n",
       "  <thead>\n",
       "    <tr style=\"text-align: right;\">\n",
       "      <th></th>\n",
       "      <th>series_id</th>\n",
       "      <th>year</th>\n",
       "      <th>value</th>\n",
       "    </tr>\n",
       "  </thead>\n",
       "  <tbody>\n",
       "    <tr>\n",
       "      <th>0</th>\n",
       "      <td>PRS30006011</td>\n",
       "      <td>2022</td>\n",
       "      <td>20.500</td>\n",
       "    </tr>\n",
       "    <tr>\n",
       "      <th>1</th>\n",
       "      <td>PRS30006012</td>\n",
       "      <td>2022</td>\n",
       "      <td>17.100</td>\n",
       "    </tr>\n",
       "    <tr>\n",
       "      <th>2</th>\n",
       "      <td>PRS30006013</td>\n",
       "      <td>1989</td>\n",
       "      <td>722.957</td>\n",
       "    </tr>\n",
       "    <tr>\n",
       "      <th>3</th>\n",
       "      <td>PRS30006021</td>\n",
       "      <td>2010</td>\n",
       "      <td>17.700</td>\n",
       "    </tr>\n",
       "    <tr>\n",
       "      <th>4</th>\n",
       "      <td>PRS30006022</td>\n",
       "      <td>2010</td>\n",
       "      <td>12.400</td>\n",
       "    </tr>\n",
       "    <tr>\n",
       "      <th>...</th>\n",
       "      <td>...</td>\n",
       "      <td>...</td>\n",
       "      <td>...</td>\n",
       "    </tr>\n",
       "    <tr>\n",
       "      <th>277</th>\n",
       "      <td>PRS88003192</td>\n",
       "      <td>2002</td>\n",
       "      <td>282.800</td>\n",
       "    </tr>\n",
       "    <tr>\n",
       "      <th>278</th>\n",
       "      <td>PRS88003193</td>\n",
       "      <td>2024</td>\n",
       "      <td>860.838</td>\n",
       "    </tr>\n",
       "    <tr>\n",
       "      <th>279</th>\n",
       "      <td>PRS88003201</td>\n",
       "      <td>1974</td>\n",
       "      <td>61.500</td>\n",
       "    </tr>\n",
       "    <tr>\n",
       "      <th>280</th>\n",
       "      <td>PRS88003202</td>\n",
       "      <td>1974</td>\n",
       "      <td>70.700</td>\n",
       "    </tr>\n",
       "    <tr>\n",
       "      <th>281</th>\n",
       "      <td>PRS88003203</td>\n",
       "      <td>2024</td>\n",
       "      <td>583.441</td>\n",
       "    </tr>\n",
       "  </tbody>\n",
       "</table>\n",
       "<p>282 rows × 3 columns</p>\n",
       "</div>"
      ],
      "text/plain": [
       "             series_id  year    value\n",
       "0    PRS30006011        2022   20.500\n",
       "1    PRS30006012        2022   17.100\n",
       "2    PRS30006013        1989  722.957\n",
       "3    PRS30006021        2010   17.700\n",
       "4    PRS30006022        2010   12.400\n",
       "..                 ...   ...      ...\n",
       "277  PRS88003192        2002  282.800\n",
       "278  PRS88003193        2024  860.838\n",
       "279  PRS88003201        1974   61.500\n",
       "280  PRS88003202        1974   70.700\n",
       "281  PRS88003203        2024  583.441\n",
       "\n",
       "[282 rows x 3 columns]"
      ]
     },
     "execution_count": 47,
     "metadata": {},
     "output_type": "execute_result"
    }
   ],
   "source": [
    "# Remove columns names whitespace\n",
    "series.rename(columns={\"series_id        \": \"series_id\"}, inplace=True)\n",
    "series.rename(columns={\"       value\": \"value\"}, inplace=True)\n",
    "# Generate report\n",
    "max_value_series = series.groupby([\"series_id\", \"year\"], as_index=False)[\"value\"].agg(\"sum\")\n",
    "max_value_series = max_value_series.sort_values(\"value\", ascending=False).drop_duplicates(\"series_id\", keep=\"first\").sort_index().reset_index(drop=True)\n",
    "max_value_series"
   ]
  },
  {
   "cell_type": "markdown",
   "metadata": {
    "pycharm": {
     "name": "#%% md\n"
    }
   },
   "source": [
    "## Step 3\n",
    "\n",
    "> Using both dataframes from Part 1 and Part 2, generate a report that will provide the `value` for `series_id = PRS30006032` and `period = Q01` and the `population` for that given year (if available in the population dataset)"
   ]
  },
  {
   "cell_type": "code",
   "execution_count": 58,
   "metadata": {
    "pycharm": {
     "name": "#%%\n"
    }
   },
   "outputs": [
    {
     "name": "stdout",
     "output_type": "stream",
     "text": [
      "\n",
      "Initial filtered specific_series shape: (0, 5)\n",
      "Empty DataFrame\n",
      "Columns: [series_id, year, period, value, footnote_codes]\n",
      "Index: []\n",
      "\n",
      "Filtered specific_series shape (2013-2018): (0, 5)\n",
      "Empty DataFrame\n",
      "Columns: [series_id, year, period, value, footnote_codes]\n",
      "Index: []\n"
     ]
    }
   ],
   "source": [
    "# -----------------------------\n",
    "# Filter specific series: e.g., series IDs containing \"PRS30000632\" and period \"Q01\"\n",
    "specific_series = series.loc[\n",
    "    series[\"series_id\"].str.contains(\"PRS30000632\", case=False)\n",
    "]\n",
    "specific_series = specific_series[\n",
    "    specific_series[\"period\"].str.contains(\"Q01\", case=False)\n",
    "]\n",
    "\n",
    "print(\"\\nInitial filtered specific_series shape:\", specific_series.shape)\n",
    "print(specific_series.head())\n",
    "\n",
    "# -----------------------------\n",
    "# Filter specific_series to only years 2013–2018 to match population data\n",
    "specific_series = specific_series[\n",
    "    (specific_series[\"year\"] >= 2013) & (specific_series[\"year\"] <= 2018)\n",
    "]\n",
    "\n",
    "print(\"\\nFiltered specific_series shape (2013-2018):\", specific_series.shape)\n",
    "print(specific_series.head())\n",
    "\n",
    "# -----------------------------\n",
    "# Ensure population['year'] is int\n",
    "population[\"year\"] = population[\"year\"].astype(int)\n",
    "\n",
    "# -----------------------------\n",
    "# Merge filtered series with population data on 'year'\n",
    "result = pd.merge(\n",
    "    specific_series,\n",
    "    population,\n",
    "    left_on=\"year\",\n",
    "    right_on=\"year\",\n",
    "    how=\"left\"\n",
    ")\n",
    "\n",
    "# -----------------------------\n",
    "# Select and order columns for report\n",
    "result = result[[\"series_id\", \"year\", \"period\", \"value\", \"population\"]]\n",
    "\n",
    "# -\n"
   ]
  },
  {
   "cell_type": "code",
   "execution_count": 56,
   "metadata": {},
   "outputs": [
    {
     "name": "stdout",
     "output_type": "stream",
     "text": [
      "Empty DataFrame\n",
      "Columns: [year, period]\n",
      "Index: []\n"
     ]
    }
   ],
   "source": [
    "mask = (\n",
    "    (series[\"series_id\"] == \"PRS30006011\") &\n",
    "    (series[\"year\"] >= 2013) &\n",
    "    (series[\"year\"] <= 2018)\n",
    ")\n",
    "print(series.loc[mask, [\"year\", \"period\"]].sort_values(\"year\"))\n"
   ]
  },
  {
   "cell_type": "markdown",
   "metadata": {
    "pycharm": {
     "name": "#%% md\n"
    }
   },
   "source": [
    "## Step 4\n",
    "\n",
    "> Submit your analysis, your queries, and the outcome of the reports as a [.ipynb](https://github.com/rearc-data/quest#:~:text=Submit%20your%20analysis%2C%20your%20queries%2C%20and%20the%20outcome%20of%20the%20reports%20as%20a%20.ipynb%20file.) file.\n",
    "\n",
    "`data_analytics.ipynb` is located in the `part3` directory."
   ]
  }
 ],
 "metadata": {
  "kernelspec": {
   "display_name": "Python 3",
   "language": "python",
   "name": "python3"
  },
  "language_info": {
   "codemirror_mode": {
    "name": "ipython",
    "version": 3
   },
   "file_extension": ".py",
   "mimetype": "text/x-python",
   "name": "python",
   "nbconvert_exporter": "python",
   "pygments_lexer": "ipython3",
   "version": "3.13.2"
  },
  "orig_nbformat": 4
 },
 "nbformat": 4,
 "nbformat_minor": 2
}
