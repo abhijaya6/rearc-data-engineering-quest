{
 "cells": [
  {
   "cell_type": "markdown",
   "metadata": {
    "pycharm": {
     "name": "#%% md\n"
    }
   },
   "source": [
    "# Part 3: Data Analytics"
   ]
  },
  {
   "cell_type": "markdown",
   "metadata": {
    "pycharm": {
     "name": "#%% md\n"
    }
   },
   "source": [
    "## Step 0\n",
    "\n",
    "> 0. Load both the csv file from **Part 1** `pr.data.0.current` and the json file from **Part 2** as dataframes ([Spark](https://spark.apache.org/docs/1.6.1/api/java/org/apache/spark/sql/DataFrame.html), [Pyspark](https://spark.apache.org/docs/latest/api/python/reference/api/pyspark.sql.DataFrame.html), [Pandas](https://pandas.pydata.org/pandas-docs/stable/reference/api/pandas.DataFrame.html), [Koalas](https://koalas.readthedocs.io/en/latest/), etc)."
   ]
  },
  {
   "cell_type": "code",
   "execution_count": 45,
   "metadata": {
    "pycharm": {
     "name": "#%%\n"
    }
   },
   "outputs": [
    {
     "name": "stdout",
     "output_type": "stream",
     "text": [
      "Downloading series data...\n",
      "Series DataFrame shape: (75659, 5)\n",
      "Series columns: Index(['series_id', 'year', 'period', 'value', 'footnote_codes'], dtype='object')\n",
      "           series_id  year period  value footnote_codes\n",
      "0  PRS30006011        1988    Q01    1.9            NaN\n",
      "1  PRS30006011        1988    Q02    2.2            NaN\n",
      "2  PRS30006011        1988    Q03    1.9            NaN\n",
      "3  PRS30006011        1988    Q04    1.1            NaN\n",
      "4  PRS30006011        1988    Q05    1.8            NaN\n",
      "\n",
      "Downloading population data JSON...\n",
      "Status code: 200\n",
      "Population DataFrame shape: (6, 2)\n",
      "   year  population\n",
      "0  2013   316128839\n",
      "1  2014   318857056\n",
      "2  2015   321418820\n",
      "3  2016   323127513\n",
      "4  2017   325719178\n",
      "\n",
      "Filtered series shape: (0, 5)\n",
      "Empty DataFrame\n",
      "Columns: [series_id, year, period, value, footnote_codes]\n",
      "Index: []\n",
      "\n",
      "Filtered population shape: (6, 2)\n",
      "   year  population\n",
      "0  2013   316128839\n",
      "1  2014   318857056\n",
      "2  2015   321418820\n",
      "3  2016   323127513\n",
      "4  2017   325719178\n",
      "\n",
      "Merged result shape: (0, 5)\n",
      "Empty DataFrame\n",
      "Columns: [series_id, year, period, value, population]\n",
      "Index: []\n"
     ]
    }
   ],
   "source": [
    "import pandas as pd\n",
    "import requests\n",
    "\n",
    "# Data sources (use your signed URLs or correct paths)\n",
    "SERIES_DATA = \"https://rearc-quest-bucket-abhijaya-2025.s3.eu-north-1.amazonaws.com/pr.data.1.AllData\"\n",
    "POPULATION_DATA = \"https://rearc-quest-bucket-abhijaya-2025.s3.eu-north-1.amazonaws.com/population.json\"\n",
    "\n",
    "# -----------------------------\n",
    "# Download and load series data\n",
    "print(\"Downloading series data...\")\n",
    "series = pd.read_csv(SERIES_DATA, delimiter=\"\\t\")\n",
    "\n",
    "# Fix: strip whitespace from column names so 'series_id' is correct\n",
    "series.columns = series.columns.str.strip()\n",
    "\n",
    "print(f\"Series DataFrame shape: {series.shape}\")\n",
    "print(\"Series columns:\", series.columns)\n",
    "print(series.head())\n",
    "\n",
    "# -----------------------------\n",
    "# Download and load population data\n",
    "print(\"\\nDownloading population data JSON...\")\n",
    "r = requests.get(POPULATION_DATA)\n",
    "print(\"Status code:\", r.status_code)\n",
    "if r.status_code != 200:\n",
    "    print(\"Error fetching population.json, response preview:\")\n",
    "    print(r.text[:500])\n",
    "    r.raise_for_status()\n",
    "\n",
    "population = pd.json_normalize(r.json(), record_path=\"data\")\n",
    "print(f\"Population DataFrame shape: {population.shape}\")\n",
    "print(population.head())\n",
    "\n",
    "# -----------------------------\n",
    "# Filter specific series: series IDs containing \"PRS30000632\" and period \"Q01\"\n",
    "specific_series = series.loc[\n",
    "    series[\"series_id\"].str.contains(\"PRS30000632\", case=False)\n",
    "]\n",
    "specific_series = specific_series[specific_series[\"period\"].str.contains(\"Q01\", case=False)]\n",
    "\n",
    "print(\"\\nFiltered series shape:\", specific_series.shape)\n",
    "print(specific_series.head())\n",
    "\n",
    "# -----------------------------\n",
    "# Filter population data for relevant years 2013-2018\n",
    "population[\"year\"] = population[\"year\"].astype(int)\n",
    "population_filtered = population[(population[\"year\"] >= 2013) & (population[\"year\"] <= 2018)]\n",
    "\n",
    "print(\"\\nFiltered population shape:\", population_filtered.shape)\n",
    "print(population_filtered.head())\n",
    "\n",
    "# -----------------------------\n",
    "# Merge filtered series with population on 'year'\n",
    "result = pd.merge(\n",
    "    specific_series,\n",
    "    population_filtered,\n",
    "    left_on=\"year\",\n",
    "    right_on=\"year\",\n",
    "    how=\"left\"\n",
    ")\n",
    "\n",
    "# Select and order columns for report\n",
    "result = result[[\"series_id\", \"year\", \"period\", \"value\", \"population\"]]\n",
    "\n",
    "# -----------------------------\n",
    "# Display final merged DataFrame\n",
    "print(\"\\nMerged result shape:\", result.shape)\n",
    "print(result.head(10))\n"
   ]
  },
  {
   "cell_type": "markdown",
   "metadata": {
    "pycharm": {
     "name": "#%% md\n"
    }
   },
   "source": [
    "## Step 1\n",
    "\n",
    "> 1. Using the dataframe from the population data API (Part 2), generate the mean and the standard deviation of the US population across the years [2013, 2018] inclusive."
   ]
  },
  {
   "cell_type": "code",
   "execution_count": 46,
   "metadata": {
    "pycharm": {
     "name": "#%%\n"
    }
   },
   "outputs": [
    {
     "name": "stdout",
     "output_type": "stream",
     "text": [
      "Mean US population 2013-2018: 322,069,808\n",
      "Stddev US population 2013-2018: 4,158,441\n"
     ]
    }
   ],
   "source": [
    "# Filter years 2013–2018\n",
    "population_stats = population[(population[\"year\"] >= 2013) & (population[\"year\"] <= 2018)]\n",
    "\n",
    "# Calculate mean and standard deviation\n",
    "mean_pop = population_stats[\"population\"].mean()\n",
    "std_pop = population_stats[\"population\"].std()\n",
    "\n",
    "print(f\"Mean US population 2013-2018: {mean_pop:,.0f}\")\n",
    "print(f\"Stddev US population 2013-2018: {std_pop:,.0f}\")\n"
   ]
  },
  {
   "cell_type": "markdown",
   "metadata": {
    "pycharm": {
     "name": "#%% md\n"
    }
   },
   "source": [
    "## Step 2\n",
    "\n",
    "> Using the dataframe from the time-series (Part 1), For every series_id, find the best year: the year with the max/largest sum of \"value\" for all quarters in that year. Generate a report with each series id, the best year for that series, and the summed value for that year."
   ]
  },
  {
   "cell_type": "code",
   "execution_count": 47,
   "metadata": {
    "pycharm": {
     "name": "#%%\n"
    }
   },
   "outputs": [
    {
     "data": {
      "text/html": [
       "<div>\n",
       "<style scoped>\n",
       "    .dataframe tbody tr th:only-of-type {\n",
       "        vertical-align: middle;\n",
       "    }\n",
       "\n",
       "    .dataframe tbody tr th {\n",
       "        vertical-align: top;\n",
       "    }\n",
       "\n",
       "    .dataframe thead th {\n",
       "        text-align: right;\n",
       "    }\n",
       "</style>\n",
       "<table border=\"1\" class=\"dataframe\">\n",
       "  <thead>\n",
       "    <tr style=\"text-align: right;\">\n",
       "      <th></th>\n",
       "      <th>series_id</th>\n",
       "      <th>year</th>\n",
       "      <th>value</th>\n",
       "    </tr>\n",
       "  </thead>\n",
       "  <tbody>\n",
       "    <tr>\n",
       "      <th>0</th>\n",
       "      <td>PRS30006011</td>\n",
       "      <td>2022</td>\n",
       "      <td>20.500</td>\n",
       "    </tr>\n",
       "    <tr>\n",
       "      <th>1</th>\n",
       "      <td>PRS30006012</td>\n",
       "      <td>2022</td>\n",
       "      <td>17.100</td>\n",
       "    </tr>\n",
       "    <tr>\n",
       "      <th>2</th>\n",
       "      <td>PRS30006013</td>\n",
       "      <td>1989</td>\n",
       "      <td>722.957</td>\n",
       "    </tr>\n",
       "    <tr>\n",
       "      <th>3</th>\n",
       "      <td>PRS30006021</td>\n",
       "      <td>2010</td>\n",
       "      <td>17.700</td>\n",
       "    </tr>\n",
       "    <tr>\n",
       "      <th>4</th>\n",
       "      <td>PRS30006022</td>\n",
       "      <td>2010</td>\n",
       "      <td>12.400</td>\n",
       "    </tr>\n",
       "    <tr>\n",
       "      <th>...</th>\n",
       "      <td>...</td>\n",
       "      <td>...</td>\n",
       "      <td>...</td>\n",
       "    </tr>\n",
       "    <tr>\n",
       "      <th>277</th>\n",
       "      <td>PRS88003192</td>\n",
       "      <td>2002</td>\n",
       "      <td>282.800</td>\n",
       "    </tr>\n",
       "    <tr>\n",
       "      <th>278</th>\n",
       "      <td>PRS88003193</td>\n",
       "      <td>2024</td>\n",
       "      <td>860.838</td>\n",
       "    </tr>\n",
       "    <tr>\n",
       "      <th>279</th>\n",
       "      <td>PRS88003201</td>\n",
       "      <td>1974</td>\n",
       "      <td>61.500</td>\n",
       "    </tr>\n",
       "    <tr>\n",
       "      <th>280</th>\n",
       "      <td>PRS88003202</td>\n",
       "      <td>1974</td>\n",
       "      <td>70.700</td>\n",
       "    </tr>\n",
       "    <tr>\n",
       "      <th>281</th>\n",
       "      <td>PRS88003203</td>\n",
       "      <td>2024</td>\n",
       "      <td>583.441</td>\n",
       "    </tr>\n",
       "  </tbody>\n",
       "</table>\n",
       "<p>282 rows × 3 columns</p>\n",
       "</div>"
      ],
      "text/plain": [
       "             series_id  year    value\n",
       "0    PRS30006011        2022   20.500\n",
       "1    PRS30006012        2022   17.100\n",
       "2    PRS30006013        1989  722.957\n",
       "3    PRS30006021        2010   17.700\n",
       "4    PRS30006022        2010   12.400\n",
       "..                 ...   ...      ...\n",
       "277  PRS88003192        2002  282.800\n",
       "278  PRS88003193        2024  860.838\n",
       "279  PRS88003201        1974   61.500\n",
       "280  PRS88003202        1974   70.700\n",
       "281  PRS88003203        2024  583.441\n",
       "\n",
       "[282 rows x 3 columns]"
      ]
     },
     "execution_count": 47,
     "metadata": {},
     "output_type": "execute_result"
    }
   ],
   "source": [
    "# Remove columns names whitespace\n",
    "series.rename(columns={\"series_id        \": \"series_id\"}, inplace=True)\n",
    "series.rename(columns={\"       value\": \"value\"}, inplace=True)\n",
    "# Generate report\n",
    "max_value_series = series.groupby([\"series_id\", \"year\"], as_index=False)[\"value\"].agg(\"sum\")\n",
    "max_value_series = max_value_series.sort_values(\"value\", ascending=False).drop_duplicates(\"series_id\", keep=\"first\").sort_index().reset_index(drop=True)\n",
    "max_value_series"
   ]
  },
  {
   "cell_type": "markdown",
   "metadata": {
    "pycharm": {
     "name": "#%% md\n"
    }
   },
   "source": [
    "## Step 3\n",
    "\n",
    "> Using both dataframes from Part 1 and Part 2, generate a report that will provide the `value` for `series_id = PRS30006032` and `period = Q01` and the `population` for that given year (if available in the population dataset)"
   ]
  },
  {
   "cell_type": "code",
   "execution_count": 48,
   "metadata": {},
   "outputs": [
    {
     "name": "stdout",
     "output_type": "stream",
     "text": [
      "['Q01' 'Q02' 'Q03' 'Q04' 'Q05']\n"
     ]
    }
   ],
   "source": [
    "print(series[\"period\"].unique())\n"
   ]
  },
  {
   "cell_type": "code",
   "execution_count": 49,
   "metadata": {},
   "outputs": [
    {
     "name": "stdout",
     "output_type": "stream",
     "text": [
      "['PRS30006011      ' 'PRS30006012      ' 'PRS30006013      '\n",
      " 'PRS30006021      ' 'PRS30006022      ' 'PRS30006023      '\n",
      " 'PRS30006031      ' 'PRS30006032      ' 'PRS30006033      '\n",
      " 'PRS30006061      ' 'PRS30006062      ' 'PRS30006063      '\n",
      " 'PRS30006081      ' 'PRS30006082      ' 'PRS30006083      '\n",
      " 'PRS30006091      ' 'PRS30006092      ' 'PRS30006093      '\n",
      " 'PRS30006101      ' 'PRS30006102      ' 'PRS30006103      '\n",
      " 'PRS30006111      ' 'PRS30006112      ' 'PRS30006113      '\n",
      " 'PRS30006131      ' 'PRS30006132      ' 'PRS30006133      '\n",
      " 'PRS30006151      ' 'PRS30006152      ' 'PRS30006153      '\n",
      " 'PRS30006161      ' 'PRS30006162      ' 'PRS30006163      '\n",
      " 'PRS30006171      ' 'PRS30006172      ' 'PRS30006173      '\n",
      " 'PRS30006211      ' 'PRS30006212      ' 'PRS30006213      '\n",
      " 'PRS30006221      ' 'PRS30006222      ' 'PRS30006223      '\n",
      " 'PRS30006231      ' 'PRS30006232      ' 'PRS30006233      '\n",
      " 'PRS31006011      ' 'PRS31006012      ' 'PRS31006013      '\n",
      " 'PRS31006021      ' 'PRS31006022      ' 'PRS31006023      '\n",
      " 'PRS31006031      ' 'PRS31006032      ' 'PRS31006033      '\n",
      " 'PRS31006061      ' 'PRS31006062      ' 'PRS31006063      '\n",
      " 'PRS31006081      ' 'PRS31006082      ' 'PRS31006083      '\n",
      " 'PRS31006091      ' 'PRS31006092      ' 'PRS31006093      '\n",
      " 'PRS31006101      ' 'PRS31006102      ' 'PRS31006103      '\n",
      " 'PRS31006111      ' 'PRS31006112      ' 'PRS31006113      '\n",
      " 'PRS31006131      ' 'PRS31006132      ' 'PRS31006133      '\n",
      " 'PRS31006151      ' 'PRS31006152      ' 'PRS31006153      '\n",
      " 'PRS31006161      ' 'PRS31006162      ' 'PRS31006163      '\n",
      " 'PRS31006171      ' 'PRS31006172      ' 'PRS31006173      '\n",
      " 'PRS31006211      ' 'PRS31006212      ' 'PRS31006213      '\n",
      " 'PRS31006221      ' 'PRS31006222      ' 'PRS31006223      '\n",
      " 'PRS31006231      ' 'PRS31006232      ' 'PRS31006233      '\n",
      " 'PRS32006011      ' 'PRS32006012      ' 'PRS32006013      '\n",
      " 'PRS32006021      ' 'PRS32006022      ' 'PRS32006023      '\n",
      " 'PRS32006031      ' 'PRS32006032      ' 'PRS32006033      '\n",
      " 'PRS32006061      ' 'PRS32006062      ' 'PRS32006063      '\n",
      " 'PRS32006081      ' 'PRS32006082      ' 'PRS32006083      '\n",
      " 'PRS32006091      ' 'PRS32006092      ' 'PRS32006093      '\n",
      " 'PRS32006101      ' 'PRS32006102      ' 'PRS32006103      '\n",
      " 'PRS32006111      ' 'PRS32006112      ' 'PRS32006113      '\n",
      " 'PRS32006131      ' 'PRS32006132      ' 'PRS32006133      '\n",
      " 'PRS32006151      ' 'PRS32006152      ' 'PRS32006153      '\n",
      " 'PRS32006161      ' 'PRS32006162      ' 'PRS32006163      '\n",
      " 'PRS32006171      ' 'PRS32006172      ' 'PRS32006173      '\n",
      " 'PRS32006211      ' 'PRS32006212      ' 'PRS32006213      '\n",
      " 'PRS32006221      ' 'PRS32006222      ' 'PRS32006223      '\n",
      " 'PRS32006231      ' 'PRS32006232      ' 'PRS32006233      '\n",
      " 'PRS84006011      ' 'PRS84006012      ' 'PRS84006013      '\n",
      " 'PRS84006021      ' 'PRS84006022      ' 'PRS84006023      '\n",
      " 'PRS84006031      ' 'PRS84006032      ' 'PRS84006033      '\n",
      " 'PRS84006041      ' 'PRS84006042      ' 'PRS84006043      '\n",
      " 'PRS84006051      ' 'PRS84006052      ' 'PRS84006053      '\n",
      " 'PRS84006061      ' 'PRS84006062      ' 'PRS84006063      '\n",
      " 'PRS84006081      ' 'PRS84006082      ' 'PRS84006083      '\n",
      " 'PRS84006091      ' 'PRS84006092      ' 'PRS84006093      '\n",
      " 'PRS84006101      ' 'PRS84006102      ' 'PRS84006103      '\n",
      " 'PRS84006111      ' 'PRS84006112      ' 'PRS84006113      '\n",
      " 'PRS84006131      ' 'PRS84006132      ' 'PRS84006133      '\n",
      " 'PRS84006141      ' 'PRS84006142      ' 'PRS84006143      '\n",
      " 'PRS84006151      ' 'PRS84006152      ' 'PRS84006153      '\n",
      " 'PRS84006161      ' 'PRS84006162      ' 'PRS84006163      '\n",
      " 'PRS84006171      ' 'PRS84006172      ' 'PRS84006173      '\n",
      " 'PRS85006011      ' 'PRS85006012      ' 'PRS85006013      '\n",
      " 'PRS85006021      ' 'PRS85006022      ' 'PRS85006023      '\n",
      " 'PRS85006031      ' 'PRS85006032      ' 'PRS85006033      '\n",
      " 'PRS85006041      ' 'PRS85006042      ' 'PRS85006043      '\n",
      " 'PRS85006051      ' 'PRS85006052      ' 'PRS85006053      '\n",
      " 'PRS85006061      ' 'PRS85006062      ' 'PRS85006063      '\n",
      " 'PRS85006081      ' 'PRS85006082      ' 'PRS85006083      '\n",
      " 'PRS85006091      ' 'PRS85006092      ' 'PRS85006093      '\n",
      " 'PRS85006101      ' 'PRS85006102      ' 'PRS85006103      '\n",
      " 'PRS85006111      ' 'PRS85006112      ' 'PRS85006113      '\n",
      " 'PRS85006131      ' 'PRS85006132      ' 'PRS85006133      '\n",
      " 'PRS85006141      ' 'PRS85006142      ' 'PRS85006143      '\n",
      " 'PRS85006151      ' 'PRS85006152      ' 'PRS85006153      '\n",
      " 'PRS85006161      ' 'PRS85006162      ' 'PRS85006163      '\n",
      " 'PRS85006171      ' 'PRS85006172      ' 'PRS85006173      '\n",
      " 'PRS88003011      ' 'PRS88003012      ' 'PRS88003013      '\n",
      " 'PRS88003021      ' 'PRS88003022      ' 'PRS88003023      '\n",
      " 'PRS88003031      ' 'PRS88003032      ' 'PRS88003033      '\n",
      " 'PRS88003041      ' 'PRS88003042      ' 'PRS88003043      '\n",
      " 'PRS88003051      ' 'PRS88003052      ' 'PRS88003053      '\n",
      " 'PRS88003061      ' 'PRS88003062      ' 'PRS88003063      '\n",
      " 'PRS88003081      ' 'PRS88003082      ' 'PRS88003083      '\n",
      " 'PRS88003091      ' 'PRS88003092      ' 'PRS88003093      '\n",
      " 'PRS88003101      ' 'PRS88003102      ' 'PRS88003103      '\n",
      " 'PRS88003111      ' 'PRS88003112      ' 'PRS88003113      '\n",
      " 'PRS88003121      ' 'PRS88003122      ' 'PRS88003123      '\n",
      " 'PRS88003131      ' 'PRS88003132      ' 'PRS88003133      '\n",
      " 'PRS88003141      ' 'PRS88003142      ' 'PRS88003143      '\n",
      " 'PRS88003151      ' 'PRS88003152      ' 'PRS88003153      '\n",
      " 'PRS88003161      ' 'PRS88003162      ' 'PRS88003163      '\n",
      " 'PRS88003171      ' 'PRS88003172      ' 'PRS88003173      '\n",
      " 'PRS88003181      ' 'PRS88003182      ' 'PRS88003183      '\n",
      " 'PRS88003191      ' 'PRS88003192      ' 'PRS88003193      '\n",
      " 'PRS88003201      ' 'PRS88003202      ' 'PRS88003203      ']\n"
     ]
    }
   ],
   "source": [
    "print(series[\"series_id\"].unique())\n"
   ]
  },
  {
   "cell_type": "code",
   "execution_count": 58,
   "metadata": {
    "pycharm": {
     "name": "#%%\n"
    }
   },
   "outputs": [
    {
     "name": "stdout",
     "output_type": "stream",
     "text": [
      "\n",
      "Initial filtered specific_series shape: (0, 5)\n",
      "Empty DataFrame\n",
      "Columns: [series_id, year, period, value, footnote_codes]\n",
      "Index: []\n",
      "\n",
      "Filtered specific_series shape (2013-2018): (0, 5)\n",
      "Empty DataFrame\n",
      "Columns: [series_id, year, period, value, footnote_codes]\n",
      "Index: []\n"
     ]
    }
   ],
   "source": [
    "# -----------------------------\n",
    "# Filter specific series: e.g., series IDs containing \"PRS30000632\" and period \"Q01\"\n",
    "specific_series = series.loc[\n",
    "    series[\"series_id\"].str.contains(\"PRS30000632\", case=False)\n",
    "]\n",
    "specific_series = specific_series[\n",
    "    specific_series[\"period\"].str.contains(\"Q01\", case=False)\n",
    "]\n",
    "\n",
    "print(\"\\nInitial filtered specific_series shape:\", specific_series.shape)\n",
    "print(specific_series.head())\n",
    "\n",
    "# -----------------------------\n",
    "# Filter specific_series to only years 2013–2018 to match population data\n",
    "specific_series = specific_series[\n",
    "    (specific_series[\"year\"] >= 2013) & (specific_series[\"year\"] <= 2018)\n",
    "]\n",
    "\n",
    "print(\"\\nFiltered specific_series shape (2013-2018):\", specific_series.shape)\n",
    "print(specific_series.head())\n",
    "\n",
    "# -----------------------------\n",
    "# Ensure population['year'] is int\n",
    "population[\"year\"] = population[\"year\"].astype(int)\n",
    "\n",
    "# -----------------------------\n",
    "# Merge filtered series with population data on 'year'\n",
    "result = pd.merge(\n",
    "    specific_series,\n",
    "    population,\n",
    "    left_on=\"year\",\n",
    "    right_on=\"year\",\n",
    "    how=\"left\"\n",
    ")\n",
    "\n",
    "# -----------------------------\n",
    "# Select and order columns for report\n",
    "result = result[[\"series_id\", \"year\", \"period\", \"value\", \"population\"]]\n",
    "\n",
    "# -\n"
   ]
  },
  {
   "cell_type": "code",
   "execution_count": 56,
   "metadata": {},
   "outputs": [
    {
     "name": "stdout",
     "output_type": "stream",
     "text": [
      "Empty DataFrame\n",
      "Columns: [year, period]\n",
      "Index: []\n"
     ]
    }
   ],
   "source": [
    "mask = (\n",
    "    (series[\"series_id\"] == \"PRS30006011\") &\n",
    "    (series[\"year\"] >= 2013) &\n",
    "    (series[\"year\"] <= 2018)\n",
    ")\n",
    "print(series.loc[mask, [\"year\", \"period\"]].sort_values(\"year\"))\n"
   ]
  },
  {
   "cell_type": "markdown",
   "metadata": {
    "pycharm": {
     "name": "#%% md\n"
    }
   },
   "source": [
    "## Step 4\n",
    "\n",
    "> Submit your analysis, your queries, and the outcome of the reports as a [.ipynb](https://github.com/rearc-data/quest#:~:text=Submit%20your%20analysis%2C%20your%20queries%2C%20and%20the%20outcome%20of%20the%20reports%20as%20a%20.ipynb%20file.) file.\n",
    "\n",
    "`data_analytics.ipynb` is located in the `part3` directory."
   ]
  }
 ],
 "metadata": {
  "kernelspec": {
   "display_name": "Python 3",
   "language": "python",
   "name": "python3"
  },
  "language_info": {
   "codemirror_mode": {
    "name": "ipython",
    "version": 3
   },
   "file_extension": ".py",
   "mimetype": "text/x-python",
   "name": "python",
   "nbconvert_exporter": "python",
   "pygments_lexer": "ipython3",
   "version": "3.13.2"
  },
  "orig_nbformat": 4
 },
 "nbformat": 4,
 "nbformat_minor": 2
}
